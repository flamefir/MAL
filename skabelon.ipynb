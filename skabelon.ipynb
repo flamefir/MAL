{
 "cells": [
  {
   "cell_type": "markdown",
   "id": "f0f8b21e-98d0-423e-af05-998e507b85d7",
   "metadata": {},
   "source": [
    "L03/supergruppe_diskussion.ipynb: resume i tekstform \\\n",
    "L04/dataanalyse.ipynb \\\n",
    "L04/pipelines.ipynb: Qa+b+c+d \\\n",
    "L05/linear_regression_1.ipynb: Qa+b \\\n",
    "L05/gradient_descent.ipynb: Qa+b+c+d+e \\\n",
    "L06/ann.ipynb: Qa+b+c+d+e+f [OPTIONAL: Qg] "
   ]
  },
  {
   "cell_type": "markdown",
   "id": "2d97e549-8d15-4997-9ff0-cd8db735f9d7",
   "metadata": {},
   "source": [
    "<h1><center>SWMAL-01 Assignment O2</center></h1>\n",
    "<h3><center>Written By Group 1</center></h3>\n",
    "\n",
    "| NAME | Studienummer | Field of study|\n",
    "| --- | :---: | :---: |\n",
    "|Malte Flammild| 201911332 | E|\n",
    "|Simon Ryvold   | 201909364 | E|\n",
    "|Christian Lykke Skovgaard Madsen | 201911330 | E|\n",
    "|Jonas Borup Andersen| 201911363| E|\n",
    "\n",
    "Date: 2022-09-18"
   ]
  },
  {
   "cell_type": "markdown",
   "id": "f356a0b8-0af4-49c6-9f3d-fdd3484668bb",
   "metadata": {},
   "source": [
    "  "
   ]
  },
  {
   "cell_type": "markdown",
   "id": "96e8938d-4b60-4db0-a10f-458d6a9ad92c",
   "metadata": {},
   "source": [
    "# 1. Summary of End-to-End chapter"
   ]
  },
  {
   "cell_type": "markdown",
   "id": "be2d9110-9058-4e96-8ec6-dfb8c79e34a7",
   "metadata": {},
   "source": [
    "indledning"
   ]
  },
  {
   "cell_type": "markdown",
   "id": "3328d8c3-7d2f-448a-a6c0-abda24bd3fa8",
   "metadata": {},
   "source": [
    "## "
   ]
  },
  {
   "cell_type": "markdown",
   "id": "c70a3e0a-c2a1-4510-883b-2d26c4b1a242",
   "metadata": {},
   "source": [
    "Conclusion"
   ]
  },
  {
   "cell_type": "markdown",
   "id": "d2edafed-6d61-4bf7-bb05-d5c5b543e5e0",
   "metadata": {},
   "source": [
    " "
   ]
  },
  {
   "cell_type": "markdown",
   "id": "2060e0b8-8dc6-4c6b-b0d2-2ea152c8a3ef",
   "metadata": {},
   "source": [
    "  "
   ]
  },
  {
   "cell_type": "markdown",
   "id": "7a9c9502-f8f8-4851-9417-d0ef2511bf8c",
   "metadata": {},
   "source": [
    " "
   ]
  },
  {
   "cell_type": "markdown",
   "id": "32970c6c-5c1d-41a3-94da-4ca506ff2093",
   "metadata": {},
   "source": [
    "# 2. Dataanalysis "
   ]
  },
  {
   "cell_type": "markdown",
   "id": "a3c46667-d574-4d3b-ab5c-16d27a248eef",
   "metadata": {},
   "source": [
    "indledning"
   ]
  },
  {
   "cell_type": "markdown",
   "id": "e82d99d5-279f-4f90-b6ae-36eb1ac1d0f9",
   "metadata": {},
   "source": [
    "## 2.1 Dataset description for the O4 project"
   ]
  },
  {
   "cell_type": "markdown",
   "id": "39ce7731-5dee-447b-bdf0-2eaf42210174",
   "metadata": {},
   "source": [
    "- conceptual project description\n",
    "- description of dataset with backgrou"
   ]
  },
  {
   "cell_type": "markdown",
   "id": "6e94725a-2536-4ef2-97a5-f75435e7d627",
   "metadata": {},
   "source": [
    " "
   ]
  },
  {
   "cell_type": "markdown",
   "id": "72160446-46cc-46e5-a9eb-69ff64278ed3",
   "metadata": {},
   "source": [
    "## 2.2 Dataanalysis of our dataset"
   ]
  },
  {
   "cell_type": "markdown",
   "id": "6e8044de-ef12-425c-b8f1-35341db1cdd4",
   "metadata": {},
   "source": [
    " "
   ]
  },
  {
   "cell_type": "markdown",
   "id": "da965d1d-9ee5-4c52-bf4c-dd3d41da5b84",
   "metadata": {},
   "source": [
    " "
   ]
  },
  {
   "cell_type": "markdown",
   "id": "27e41410-c010-4868-8373-6415942b12fb",
   "metadata": {},
   "source": [
    " "
   ]
  },
  {
   "cell_type": "markdown",
   "id": "7b78dfeb-192e-4603-85c2-f933877c80ee",
   "metadata": {},
   "source": [
    "# Pipelines"
   ]
  },
  {
   "cell_type": "markdown",
   "id": "3072a2d2-3aa1-4584-84d6-55b58a61a7a6",
   "metadata": {},
   "source": [
    "indledning"
   ]
  },
  {
   "cell_type": "markdown",
   "id": "45f48252-e08b-48d2-8743-b49e7f5dd1d9",
   "metadata": {},
   "source": [
    "##"
   ]
  },
  {
   "cell_type": "markdown",
   "id": "b84311ea-63d4-4dda-b758-cf95d87c2a74",
   "metadata": {},
   "source": [
    "Conclusion"
   ]
  },
  {
   "cell_type": "markdown",
   "id": "0bba8c84-4b15-4778-a7de-c5bb5ddb8a1d",
   "metadata": {},
   "source": [
    " "
   ]
  },
  {
   "cell_type": "markdown",
   "id": "427ceb6e-3ce2-48dc-a46a-79d29f0eed65",
   "metadata": {},
   "source": [
    " "
   ]
  },
  {
   "cell_type": "markdown",
   "id": "28728d66-3733-4edd-be3b-36165270f89c",
   "metadata": {},
   "source": [
    " "
   ]
  },
  {
   "cell_type": "markdown",
   "id": "b071f78a-eda0-4053-a79b-788041773d9f",
   "metadata": {},
   "source": [
    "# Linear Regression"
   ]
  },
  {
   "cell_type": "markdown",
   "id": "dea5c3e5-528c-43f7-9bf2-523d7e538ecd",
   "metadata": {},
   "source": [
    "indledning"
   ]
  },
  {
   "cell_type": "markdown",
   "id": "cf27f323-4938-4e68-8010-cc0ca24f6dcb",
   "metadata": {},
   "source": [
    "##"
   ]
  },
  {
   "cell_type": "markdown",
   "id": "e39b6947-c2f9-4008-b02b-5d9a6ee84f3e",
   "metadata": {},
   "source": [
    "Conclusion"
   ]
  },
  {
   "cell_type": "markdown",
   "id": "455ed2dc-0dc8-4368-88ed-b654fd080d83",
   "metadata": {},
   "source": [
    " "
   ]
  },
  {
   "cell_type": "markdown",
   "id": "2f160614-4ad0-4f84-af44-7a567d1538d0",
   "metadata": {},
   "source": [
    " "
   ]
  },
  {
   "cell_type": "markdown",
   "id": "4341dc15-b947-47d3-b8d3-48a1345bdcae",
   "metadata": {},
   "source": [
    " "
   ]
  },
  {
   "cell_type": "markdown",
   "id": "2ca86af7-558b-4af0-90cc-812bed11b0e0",
   "metadata": {},
   "source": [
    "# Gradient Descent"
   ]
  },
  {
   "cell_type": "markdown",
   "id": "96f91938-d4d1-49dc-9735-82ea8694ab63",
   "metadata": {},
   "source": [
    "indledning"
   ]
  },
  {
   "cell_type": "markdown",
   "id": "9071cf0c-3b1e-4477-8e6d-5eb87262613d",
   "metadata": {},
   "source": [
    "##"
   ]
  },
  {
   "cell_type": "markdown",
   "id": "db2370eb-d6a3-42a2-8229-5db674cb39f4",
   "metadata": {},
   "source": [
    "Conclusion"
   ]
  },
  {
   "cell_type": "markdown",
   "id": "34c1ea3e-3df8-4944-ba5e-1fe02b5d8733",
   "metadata": {},
   "source": [
    " "
   ]
  },
  {
   "cell_type": "markdown",
   "id": "eb323a86-7c63-465b-87e7-bc9699f75ce7",
   "metadata": {},
   "source": [
    " "
   ]
  },
  {
   "cell_type": "markdown",
   "id": "de0d73f6-d164-4371-9e99-8a2a7b32c7e0",
   "metadata": {},
   "source": [
    " "
   ]
  },
  {
   "cell_type": "markdown",
   "id": "668af662-06ed-4b88-8a1a-e57a0e43e58d",
   "metadata": {},
   "source": [
    "# Ann"
   ]
  },
  {
   "cell_type": "markdown",
   "id": "b02508fd-1d9f-477f-ae4a-da14f6c27eb5",
   "metadata": {},
   "source": [
    "indledning"
   ]
  },
  {
   "cell_type": "markdown",
   "id": "6e02de8a-0742-4f63-986c-4234821c7f91",
   "metadata": {},
   "source": [
    "##"
   ]
  },
  {
   "cell_type": "markdown",
   "id": "9728381e-3265-4c98-ac50-d6d13b725e4a",
   "metadata": {},
   "source": [
    "Conclusion"
   ]
  }
 ],
 "metadata": {
  "kernelspec": {
   "display_name": "Python 3 (ipykernel)",
   "language": "python",
   "name": "python3"
  },
  "language_info": {
   "codemirror_mode": {
    "name": "ipython",
    "version": 3
   },
   "file_extension": ".py",
   "mimetype": "text/x-python",
   "name": "python",
   "nbconvert_exporter": "python",
   "pygments_lexer": "ipython3",
   "version": "3.9.12"
  }
 },
 "nbformat": 4,
 "nbformat_minor": 5
}
